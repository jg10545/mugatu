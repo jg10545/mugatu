{
 "cells": [
  {
   "cell_type": "markdown",
   "metadata": {},
   "source": [
    "# `mugatu` KDD-CUP-99 example\n",
    "\n",
    "**this is a work in progress**\n",
    "\n",
    "The [KDD-CUP-99](https://kdd.ics.uci.edu/databases/kddcup99/task.html) dataset is designed for learning to detect network intrusions. Let's take a first pass at exploring the dataset with Mapper to see how some of the normal and abnormal cases cluster on a graph."
   ]
  },
  {
   "cell_type": "code",
   "execution_count": null,
   "metadata": {},
   "outputs": [],
   "source": [
    "import pandas as pd\n",
    "import sklearn.datasets\n",
    "import panel as pn\n",
    "import holoviews as hv\n",
    "import dask\n",
    "\n",
    "# configure default scheduler for dask (used to parallelize clustering)\n",
    "dask.config.set(scheduler='processes')\n",
    "# activate the holoviews bokeh extension (for plotting the graph)\n",
    "hv.extension(\"bokeh\")\n",
    "# activate panel widgets in jupyter\n",
    "pn.extension()"
   ]
  },
  {
   "cell_type": "code",
   "execution_count": null,
   "metadata": {},
   "outputs": [],
   "source": [
    "import mugatu"
   ]
  },
  {
   "cell_type": "markdown",
   "metadata": {},
   "source": [
    "## Prepare data\n",
    "\n",
    "Here's the plan:\n",
    "\n",
    "* pull the data using the loader built in to `sklearn`\n",
    "* discard a few of the columns (categorical variables and \"duration\", which is zero in most of the dataset)\n",
    "  * obviously it would be better to restructure these columns so that we can incorporate the information\n",
    "* pull out some of the target categories for coloring the Mapper graph to see whether the structure we're learning correlates with the problem we're trying to solve"
   ]
  },
  {
   "cell_type": "code",
   "execution_count": null,
   "metadata": {},
   "outputs": [],
   "source": [
    "data = sklearn.datasets.fetch_kddcup99()\n",
    "df = pd.DataFrame(data=data[\"data\"], columns=data[\"feature_names\"])\n",
    "len(df)"
   ]
  },
  {
   "cell_type": "code",
   "execution_count": null,
   "metadata": {},
   "outputs": [],
   "source": [
    "# let's just remove the categorical columns and the duration for now\n",
    "cat_cols = [\"protocol_type\", \"service\", \"flag\"]\n",
    "df = df.drop(cat_cols, 1)\n",
    "df = df.drop(\"duration\", 1)\n",
    "for c in df.columns:\n",
    "    df[c] = df[c].astype(float)\n",
    "df.head()"
   ]
  },
  {
   "cell_type": "code",
   "execution_count": null,
   "metadata": {},
   "outputs": [],
   "source": [
    "target = pd.get_dummies(data[\"target\"].astype(str))\n",
    "labels = {\"normal\":target[\"normal.\"].values, \"neptune\":target[\"neptune.\"].values,\n",
    "         \"smurf\":target[\"smurf.\"].values, \"back\":target[\"back.\"].values, \"satan\":target[\"satan.\"].values}"
   ]
  },
  {
   "cell_type": "markdown",
   "metadata": {},
   "source": [
    "## Toss all that in the GUI\n",
    "\n",
    "I had OK luck with these parameters:\n",
    "\n",
    "* `pca_dim = 10`\n",
    "* `k = 3`\n",
    "* `num_intervals = 12`\n",
    "* `f = 0.5`\n",
    "* `balance = False`\n",
    "* `lens1 = \"isolationforest\"`\n",
    "* `lens2 = \"svd1\"`"
   ]
  },
  {
   "cell_type": "code",
   "execution_count": null,
   "metadata": {},
   "outputs": [],
   "source": [
    "mapper = mugatu.Mapperator(df, title=\"kddcup99\", color_data=labels)"
   ]
  },
  {
   "cell_type": "code",
   "execution_count": null,
   "metadata": {},
   "outputs": [],
   "source": [
    "mapper.panel()"
   ]
  },
  {
   "cell_type": "code",
   "execution_count": null,
   "metadata": {},
   "outputs": [],
   "source": []
  },
  {
   "cell_type": "code",
   "execution_count": null,
   "metadata": {},
   "outputs": [],
   "source": []
  },
  {
   "cell_type": "code",
   "execution_count": null,
   "metadata": {},
   "outputs": [],
   "source": []
  },
  {
   "cell_type": "code",
   "execution_count": null,
   "metadata": {},
   "outputs": [],
   "source": []
  }
 ],
 "metadata": {
  "kernelspec": {
   "display_name": "Python 3",
   "language": "python",
   "name": "python3"
  },
  "language_info": {
   "codemirror_mode": {
    "name": "ipython",
    "version": 3
   },
   "file_extension": ".py",
   "mimetype": "text/x-python",
   "name": "python",
   "nbconvert_exporter": "python",
   "pygments_lexer": "ipython3",
   "version": "3.7.9"
  }
 },
 "nbformat": 4,
 "nbformat_minor": 4
}
